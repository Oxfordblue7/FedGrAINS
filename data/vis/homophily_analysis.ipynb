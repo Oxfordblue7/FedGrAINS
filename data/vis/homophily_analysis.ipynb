{
 "cells": [
  {
   "cell_type": "code",
   "execution_count": 2,
   "metadata": {},
   "outputs": [],
   "source": [
    "import os\n",
    "import torch\n",
    "import wandb\n",
    "import random\n",
    "import numpy as np\n",
    "import pandas as pd\n",
    "\n",
    "import torch_geometric as pyg\n",
    "from torch_geometric.data import Data\n",
    "from torch_geometric.utils import homophily\n",
    "\n",
    "import matplotlib.pyplot as plt\n",
    "%matplotlib inline"
   ]
  },
  {
   "cell_type": "code",
   "execution_count": null,
   "metadata": {},
   "outputs": [],
   "source": [
    "wandb.login()"
   ]
  },
  {
   "cell_type": "code",
   "execution_count": 3,
   "metadata": {},
   "outputs": [
    {
     "name": "stderr",
     "output_type": "stream",
     "text": [
      "Failed to detect the name of this notebook, you can set it manually with the WANDB_NOTEBOOK_NAME environment variable to enable code saving.\n",
      "\u001b[34m\u001b[1mwandb\u001b[0m: Currently logged in as: \u001b[33memirceyani\u001b[0m (\u001b[33mfedgraphlearn\u001b[0m). Use \u001b[1m`wandb login --relogin`\u001b[0m to force relogin\n"
     ]
    },
    {
     "data": {
      "text/html": [
       "wandb version 0.15.11 is available!  To upgrade, please run:\n",
       " $ pip install wandb --upgrade"
      ],
      "text/plain": [
       "<IPython.core.display.HTML object>"
      ]
     },
     "metadata": {},
     "output_type": "display_data"
    },
    {
     "data": {
      "text/html": [
       "Tracking run with wandb version 0.15.10"
      ],
      "text/plain": [
       "<IPython.core.display.HTML object>"
      ]
     },
     "metadata": {},
     "output_type": "display_data"
    },
    {
     "data": {
      "text/html": [
       "Run data is saved locally in <code>/home/ceyani/FedGDrop/data/vis/wandb/run-20230927_165604-3dgu6hzw</code>"
      ],
      "text/plain": [
       "<IPython.core.display.HTML object>"
      ]
     },
     "metadata": {},
     "output_type": "display_data"
    },
    {
     "data": {
      "text/html": [
       "Syncing run <strong><a href='https://wandb.ai/fedgraphlearn/fedgdrop/runs/3dgu6hzw' target=\"_blank\">homophily-analysis-v1</a></strong> to <a href='https://wandb.ai/fedgraphlearn/fedgdrop' target=\"_blank\">Weights & Biases</a> (<a href='https://wandb.me/run' target=\"_blank\">docs</a>)<br/>"
      ],
      "text/plain": [
       "<IPython.core.display.HTML object>"
      ]
     },
     "metadata": {},
     "output_type": "display_data"
    },
    {
     "data": {
      "text/html": [
       " View project at <a href='https://wandb.ai/fedgraphlearn/fedgdrop' target=\"_blank\">https://wandb.ai/fedgraphlearn/fedgdrop</a>"
      ],
      "text/plain": [
       "<IPython.core.display.HTML object>"
      ]
     },
     "metadata": {},
     "output_type": "display_data"
    },
    {
     "data": {
      "text/html": [
       " View run at <a href='https://wandb.ai/fedgraphlearn/fedgdrop/runs/3dgu6hzw' target=\"_blank\">https://wandb.ai/fedgraphlearn/fedgdrop/runs/3dgu6hzw</a>"
      ],
      "text/plain": [
       "<IPython.core.display.HTML object>"
      ]
     },
     "metadata": {},
     "output_type": "display_data"
    },
    {
     "data": {
      "text/html": [
       "<button onClick=\"this.nextSibling.style.display='block';this.style.display='none';\">Display W&B run</button><iframe src='https://wandb.ai/fedgraphlearn/fedgdrop/runs/3dgu6hzw?jupyter=true' style='border:none;width:100%;height:420px;display:none;'></iframe>"
      ],
      "text/plain": [
       "<wandb.sdk.wandb_run.Run at 0x7f225c6f27d0>"
      ]
     },
     "execution_count": 3,
     "metadata": {},
     "output_type": "execute_result"
    }
   ],
   "source": [
    "run = 1\n",
    "wandb.init( project = 'fedgdrop',\n",
    "        name=f'homophily-analysis-v{run}' \n",
    "    )"
   ]
  },
  {
   "cell_type": "code",
   "execution_count": 4,
   "metadata": {},
   "outputs": [],
   "source": [
    "datapath = \"../../../datasets/\""
   ]
  },
  {
   "cell_type": "code",
   "execution_count": 5,
   "metadata": {},
   "outputs": [],
   "source": [
    "def torch_load(base_dir, filename):\n",
    "    fpath = os.path.join(base_dir, filename)    \n",
    "    return torch.load(fpath, map_location=torch.device('cpu'))\n",
    "\n",
    "def get_homophily(Dset):\n",
    "    edge_hom= homophily(edge_index = Dset.edge_index, y =  Dset.y)\n",
    "    node_hom =homophily(edge_index = Dset.edge_index, y =  Dset.y, method = 'node')\n",
    "    class_in_hom = homophily(edge_index = Dset.edge_index, y =  Dset.y, method = 'edge_insensitive')\n",
    "    return edge_hom, node_hom, class_in_hom"
   ]
  },
  {
   "cell_type": "markdown",
   "metadata": {},
   "source": [
    "## Cora Dataset\n",
    "\n",
    "### Homophily Across Subgraphs\n",
    "#### 5 Clients"
   ]
  },
  {
   "cell_type": "code",
   "execution_count": 6,
   "metadata": {},
   "outputs": [],
   "source": [
    "n_clients = 5\n",
    "\n",
    "cora_5_df= pd.DataFrame(columns = ['Tr Homophily v1','Tr Homophily v2', 'Tr Homophily v3',\n",
    "                             'Val Homophily v1','Val Homophily v2', 'Val Homophily v3',\n",
    "                             'Tst Homophily v1','Tst Homophily v2', 'Tst Homophily v3'])\n",
    "\n",
    "for client_id in range(n_clients):\n",
    "        ds = f'{client_id}-Cora'\n",
    "        partition = torch_load(datapath, f'Cora_disjoint/{n_clients}/partition_{client_id}.pt')\n",
    "        #Data objects\n",
    "        tr, val, tst = partition['client_tr'], partition['client_val'] , partition['client_tst']\n",
    "        tr_hom1, tr_hom2, tr_hom3 = get_homophily(tr)\n",
    "        val_hom1, val_hom2, val_hom3 = get_homophily(val)\n",
    "        tst_hom1, tst_hom2, tst_hom3 = get_homophily(tst)\n",
    "        cora_5_df.loc[ds, :] = [ tr_hom1, tr_hom2, tr_hom3, val_hom1, val_hom2, val_hom3,tst_hom1, tst_hom2, tst_hom3 ]\n",
    "\n",
    "wandb_cora_cli5_df= wandb.Table(dataframe=cora_5_df)\n",
    "wandb.log({\"cora_5_homophily\" : wandb_cora_cli5_df})\n",
    "                \n",
    "\n",
    "        \n",
    "\n",
    "\n",
    "       "
   ]
  },
  {
   "cell_type": "code",
   "execution_count": 7,
   "metadata": {},
   "outputs": [],
   "source": [
    "n_clients = 10\n",
    "\n",
    "cora_10_df= pd.DataFrame(columns = ['Tr Homophily v1','Tr Homophily v2', 'Tr Homophily v3',\n",
    "                             'Val Homophily v1','Val Homophily v2', 'Val Homophily v3',\n",
    "                             'Tst Homophily v1','Tst Homophily v2', 'Tst Homophily v3'])\n",
    "\n",
    "for client_id in range(n_clients):\n",
    "        ds = f'{client_id}-Cora'\n",
    "        partition = torch_load(datapath, f'Cora_disjoint/{n_clients}/partition_{client_id}.pt')\n",
    "        #Data objects\n",
    "        tr, val, tst = partition['client_tr'], partition['client_val'] , partition['client_tst']\n",
    "        tr_hom1, tr_hom2, tr_hom3 = get_homophily(tr)\n",
    "        val_hom1, val_hom2, val_hom3 = get_homophily(val)\n",
    "        tst_hom1, tst_hom2, tst_hom3 = get_homophily(tst)\n",
    "        cora_10_df.loc[ds, :] = [ tr_hom1, tr_hom2, tr_hom3, val_hom1, val_hom2, val_hom3,tst_hom1, tst_hom2, tst_hom3 ]\n",
    "\n",
    "wandb_cora_cli10_df= wandb.Table(dataframe=cora_10_df)\n",
    "wandb.log({\"cora_10_homophily\" : wandb_cora_cli10_df})\n",
    "                \n",
    "\n",
    "        \n",
    "\n",
    "\n",
    "       "
   ]
  },
  {
   "cell_type": "code",
   "execution_count": 8,
   "metadata": {},
   "outputs": [],
   "source": [
    "n_clients = 20\n",
    "\n",
    "cora_20_df= pd.DataFrame(columns = ['Tr Homophily v1','Tr Homophily v2', 'Tr Homophily v3',\n",
    "                             'Val Homophily v1','Val Homophily v2', 'Val Homophily v3',\n",
    "                             'Tst Homophily v1','Tst Homophily v2', 'Tst Homophily v3'])\n",
    "\n",
    "for client_id in range(n_clients):\n",
    "        ds = f'{client_id}-Cora'\n",
    "        partition = torch_load(datapath, f'Cora_disjoint/{n_clients}/partition_{client_id}.pt')\n",
    "        #Data objects\n",
    "        tr, val, tst = partition['client_tr'], partition['client_val'] , partition['client_tst']\n",
    "        tr_hom1, tr_hom2, tr_hom3 = get_homophily(tr)\n",
    "        val_hom1, val_hom2, val_hom3 = get_homophily(val)\n",
    "        tst_hom1, tst_hom2, tst_hom3 = get_homophily(tst)\n",
    "        cora_20_df.loc[ds, :] = [ tr_hom1, tr_hom2, tr_hom3, val_hom1, val_hom2, val_hom3,tst_hom1, tst_hom2, tst_hom3 ]\n",
    "\n",
    "wandb_cora_cli20_df= wandb.Table(dataframe=cora_20_df)\n",
    "wandb.log({\"cora_20_homophily\" : wandb_cora_cli20_df})\n",
    "                \n",
    "\n",
    "        \n",
    "\n",
    "\n",
    "       "
   ]
  },
  {
   "cell_type": "markdown",
   "metadata": {},
   "source": [
    "## CiteSeer Dataset\n",
    "### 5 Clients"
   ]
  },
  {
   "cell_type": "code",
   "execution_count": 9,
   "metadata": {},
   "outputs": [],
   "source": [
    "n_clients = 5\n",
    "\n",
    "seer_5_df= pd.DataFrame(columns = ['Tr Homophily v1','Tr Homophily v2', 'Tr Homophily v3',\n",
    "                             'Val Homophily v1','Val Homophily v2', 'Val Homophily v3',\n",
    "                             'Tst Homophily v1','Tst Homophily v2', 'Tst Homophily v3'])\n",
    "\n",
    "for client_id in range(n_clients):\n",
    "        ds = f'{client_id}-CiteSeer'\n",
    "        partition = torch_load(datapath, f'CiteSeer_disjoint/{n_clients}/partition_{client_id}.pt')\n",
    "        #Data objects\n",
    "        tr, val, tst = partition['client_tr'], partition['client_val'] , partition['client_tst']\n",
    "        tr_hom1, tr_hom2, tr_hom3 = get_homophily(tr)\n",
    "        val_hom1, val_hom2, val_hom3 = get_homophily(val)\n",
    "        tst_hom1, tst_hom2, tst_hom3 = get_homophily(tst)\n",
    "        seer_5_df.loc[ds, :] = [ tr_hom1, tr_hom2, tr_hom3, val_hom1, val_hom2, val_hom3,tst_hom1, tst_hom2, tst_hom3 ]\n",
    "\n",
    "wandb_seer_cli5_df= wandb.Table(dataframe=seer_5_df)\n",
    "wandb.log({\"citeseer_5_homophily\" : wandb_seer_cli5_df})\n",
    "                \n",
    "\n",
    "        \n",
    "\n",
    "\n",
    "       "
   ]
  },
  {
   "cell_type": "code",
   "execution_count": 10,
   "metadata": {},
   "outputs": [],
   "source": [
    "n_clients = 10\n",
    "\n",
    "seer_10_df= pd.DataFrame(columns = ['Tr Homophily v1','Tr Homophily v2', 'Tr Homophily v3',\n",
    "                             'Val Homophily v1','Val Homophily v2', 'Val Homophily v3',\n",
    "                             'Tst Homophily v1','Tst Homophily v2', 'Tst Homophily v3'])\n",
    "\n",
    "for client_id in range(n_clients):\n",
    "        ds = f'{client_id}-CiteSeer'\n",
    "        partition = torch_load(datapath, f'CiteSeer_disjoint/{n_clients}/partition_{client_id}.pt')\n",
    "        #Data objects\n",
    "        tr, val, tst = partition['client_tr'], partition['client_val'] , partition['client_tst']\n",
    "        tr_hom1, tr_hom2, tr_hom3 = get_homophily(tr)\n",
    "        val_hom1, val_hom2, val_hom3 = get_homophily(val)\n",
    "        tst_hom1, tst_hom2, tst_hom3 = get_homophily(tst)\n",
    "        seer_10_df.loc[ds, :] = [ tr_hom1, tr_hom2, tr_hom3, val_hom1, val_hom2, val_hom3,tst_hom1, tst_hom2, tst_hom3 ]\n",
    "\n",
    "wandb_seer_cli10_df= wandb.Table(dataframe=seer_10_df)\n",
    "wandb.log({\"citeseer_10_homophily\" : wandb_seer_cli10_df})\n",
    "                \n",
    "\n",
    "        \n",
    "\n",
    "\n",
    "       "
   ]
  },
  {
   "cell_type": "code",
   "execution_count": 11,
   "metadata": {},
   "outputs": [],
   "source": [
    "n_clients = 20\n",
    "\n",
    "seer_20_df= pd.DataFrame(columns = ['Tr Homophily v1','Tr Homophily v2', 'Tr Homophily v3',\n",
    "                             'Val Homophily v1','Val Homophily v2', 'Val Homophily v3',\n",
    "                             'Tst Homophily v1','Tst Homophily v2', 'Tst Homophily v3'])\n",
    "\n",
    "for client_id in range(n_clients):\n",
    "        ds = f'{client_id}-CiteSeer'\n",
    "        partition = torch_load(datapath, f'CiteSeer_disjoint/{n_clients}/partition_{client_id}.pt')\n",
    "        #Data objects\n",
    "        tr, val, tst = partition['client_tr'], partition['client_val'] , partition['client_tst']\n",
    "        tr_hom1, tr_hom2, tr_hom3 = get_homophily(tr)\n",
    "        val_hom1, val_hom2, val_hom3 = get_homophily(val)\n",
    "        tst_hom1, tst_hom2, tst_hom3 = get_homophily(tst)\n",
    "        seer_20_df.loc[ds, :] = [ tr_hom1, tr_hom2, tr_hom3, val_hom1, val_hom2, val_hom3,tst_hom1, tst_hom2, tst_hom3 ]\n",
    "\n",
    "wandb_seer_cli20_df= wandb.Table(dataframe=seer_20_df)\n",
    "wandb.log({\"citeseer_20_homophily\" : wandb_seer_cli20_df})\n",
    "                \n",
    "\n",
    "        \n",
    "\n",
    "\n",
    "       "
   ]
  },
  {
   "cell_type": "markdown",
   "metadata": {},
   "source": [
    "## PubMed Dataset"
   ]
  },
  {
   "cell_type": "code",
   "execution_count": 12,
   "metadata": {},
   "outputs": [],
   "source": [
    "n_clients = 5\n",
    "\n",
    "pub_5_df= pd.DataFrame(columns = ['Tr Homophily v1','Tr Homophily v2', 'Tr Homophily v3',\n",
    "                             'Val Homophily v1','Val Homophily v2', 'Val Homophily v3',\n",
    "                             'Tst Homophily v1','Tst Homophily v2', 'Tst Homophily v3'])\n",
    "\n",
    "for client_id in range(n_clients):\n",
    "        ds = f'{client_id}-PubMed'\n",
    "        partition = torch_load(datapath, f'PubMed_disjoint/{n_clients}/partition_{client_id}.pt')\n",
    "        #Data objects\n",
    "        tr, val, tst = partition['client_tr'], partition['client_val'] , partition['client_tst']\n",
    "        tr_hom1, tr_hom2, tr_hom3 = get_homophily(tr)\n",
    "        val_hom1, val_hom2, val_hom3 = get_homophily(val)\n",
    "        tst_hom1, tst_hom2, tst_hom3 = get_homophily(tst)\n",
    "        pub_5_df.loc[ds, :] = [ tr_hom1, tr_hom2, tr_hom3, val_hom1, val_hom2, val_hom3,tst_hom1, tst_hom2, tst_hom3 ]\n",
    "\n",
    "wandb_pub_cli5_df= wandb.Table(dataframe=pub_5_df)\n",
    "wandb.log({\"pub_5_homophily\" : wandb_pub_cli5_df})\n",
    "                \n",
    "\n",
    "        \n",
    "\n",
    "\n",
    "       "
   ]
  },
  {
   "cell_type": "code",
   "execution_count": 17,
   "metadata": {},
   "outputs": [
    {
     "ename": "AssertionError",
     "evalue": "",
     "output_type": "error",
     "traceback": [
      "\u001b[0;31m---------------------------------------------------------------------------\u001b[0m",
      "\u001b[0;31mAssertionError\u001b[0m                            Traceback (most recent call last)",
      "\u001b[1;32m/home/ceyani/FedGDrop/data/vis/homophily_analysis.ipynb Cell 16\u001b[0m line \u001b[0;36m1\n\u001b[1;32m      <a href='vscode-notebook-cell://ssh-remote%2Blambda-server1/home/ceyani/FedGDrop/data/vis/homophily_analysis.ipynb#X24sdnNjb2RlLXJlbW90ZQ%3D%3D?line=8'>9</a>\u001b[0m \u001b[39m#Data objects\u001b[39;00m\n\u001b[1;32m     <a href='vscode-notebook-cell://ssh-remote%2Blambda-server1/home/ceyani/FedGDrop/data/vis/homophily_analysis.ipynb#X24sdnNjb2RlLXJlbW90ZQ%3D%3D?line=9'>10</a>\u001b[0m tr, val, tst \u001b[39m=\u001b[39m partition[\u001b[39m'\u001b[39m\u001b[39mclient_tr\u001b[39m\u001b[39m'\u001b[39m], partition[\u001b[39m'\u001b[39m\u001b[39mclient_val\u001b[39m\u001b[39m'\u001b[39m] , partition[\u001b[39m'\u001b[39m\u001b[39mclient_tst\u001b[39m\u001b[39m'\u001b[39m]\n\u001b[0;32m---> <a href='vscode-notebook-cell://ssh-remote%2Blambda-server1/home/ceyani/FedGDrop/data/vis/homophily_analysis.ipynb#X24sdnNjb2RlLXJlbW90ZQ%3D%3D?line=10'>11</a>\u001b[0m tr_hom1, tr_hom2, _ \u001b[39m=\u001b[39m get_homophily(tr)\n\u001b[1;32m     <a href='vscode-notebook-cell://ssh-remote%2Blambda-server1/home/ceyani/FedGDrop/data/vis/homophily_analysis.ipynb#X24sdnNjb2RlLXJlbW90ZQ%3D%3D?line=11'>12</a>\u001b[0m val_hom1, val_hom2, _ \u001b[39m=\u001b[39m get_homophily(val)\n\u001b[1;32m     <a href='vscode-notebook-cell://ssh-remote%2Blambda-server1/home/ceyani/FedGDrop/data/vis/homophily_analysis.ipynb#X24sdnNjb2RlLXJlbW90ZQ%3D%3D?line=12'>13</a>\u001b[0m tst_hom1, tst_hom2, _ \u001b[39m=\u001b[39m get_homophily(tst)\n",
      "\u001b[1;32m/home/ceyani/FedGDrop/data/vis/homophily_analysis.ipynb Cell 16\u001b[0m line \u001b[0;36m8\n\u001b[1;32m      <a href='vscode-notebook-cell://ssh-remote%2Blambda-server1/home/ceyani/FedGDrop/data/vis/homophily_analysis.ipynb#X24sdnNjb2RlLXJlbW90ZQ%3D%3D?line=5'>6</a>\u001b[0m edge_hom\u001b[39m=\u001b[39m homophily(edge_index \u001b[39m=\u001b[39m Dset\u001b[39m.\u001b[39medge_index, y \u001b[39m=\u001b[39m  Dset\u001b[39m.\u001b[39my)\n\u001b[1;32m      <a href='vscode-notebook-cell://ssh-remote%2Blambda-server1/home/ceyani/FedGDrop/data/vis/homophily_analysis.ipynb#X24sdnNjb2RlLXJlbW90ZQ%3D%3D?line=6'>7</a>\u001b[0m node_hom \u001b[39m=\u001b[39mhomophily(edge_index \u001b[39m=\u001b[39m Dset\u001b[39m.\u001b[39medge_index, y \u001b[39m=\u001b[39m  Dset\u001b[39m.\u001b[39my, method \u001b[39m=\u001b[39m \u001b[39m'\u001b[39m\u001b[39mnode\u001b[39m\u001b[39m'\u001b[39m)\n\u001b[0;32m----> <a href='vscode-notebook-cell://ssh-remote%2Blambda-server1/home/ceyani/FedGDrop/data/vis/homophily_analysis.ipynb#X24sdnNjb2RlLXJlbW90ZQ%3D%3D?line=7'>8</a>\u001b[0m class_in_hom \u001b[39m=\u001b[39m homophily(edge_index \u001b[39m=\u001b[39;49m Dset\u001b[39m.\u001b[39;49medge_index, y \u001b[39m=\u001b[39;49m  Dset\u001b[39m.\u001b[39;49my, method \u001b[39m=\u001b[39;49m \u001b[39m'\u001b[39;49m\u001b[39medge_insensitive\u001b[39;49m\u001b[39m'\u001b[39;49m)\n\u001b[1;32m      <a href='vscode-notebook-cell://ssh-remote%2Blambda-server1/home/ceyani/FedGDrop/data/vis/homophily_analysis.ipynb#X24sdnNjb2RlLXJlbW90ZQ%3D%3D?line=8'>9</a>\u001b[0m \u001b[39mreturn\u001b[39;00m edge_hom, node_hom, class_in_hom\n",
      "File \u001b[0;32m~/anaconda3/envs/fedgdrop/lib/python3.10/site-packages/torch_geometric/utils/homophily.py:111\u001b[0m, in \u001b[0;36mhomophily\u001b[0;34m(edge_index, y, batch, method)\u001b[0m\n\u001b[1;32m    109\u001b[0m \u001b[39massert\u001b[39;00m y\u001b[39m.\u001b[39mdim() \u001b[39m==\u001b[39m \u001b[39m1\u001b[39m\n\u001b[1;32m    110\u001b[0m num_classes \u001b[39m=\u001b[39m \u001b[39mint\u001b[39m(y\u001b[39m.\u001b[39mmax()) \u001b[39m+\u001b[39m \u001b[39m1\u001b[39m\n\u001b[0;32m--> 111\u001b[0m \u001b[39massert\u001b[39;00m num_classes \u001b[39m>\u001b[39m\u001b[39m=\u001b[39m \u001b[39m2\u001b[39m\n\u001b[1;32m    112\u001b[0m batch \u001b[39m=\u001b[39m torch\u001b[39m.\u001b[39mzeros_like(y) \u001b[39mif\u001b[39;00m batch \u001b[39mis\u001b[39;00m \u001b[39mNone\u001b[39;00m \u001b[39melse\u001b[39;00m batch\n\u001b[1;32m    113\u001b[0m num_nodes \u001b[39m=\u001b[39m degree(batch, dtype\u001b[39m=\u001b[39mtorch\u001b[39m.\u001b[39mint64)\n",
      "\u001b[0;31mAssertionError\u001b[0m: "
     ]
    }
   ],
   "source": [
    "n_clients = 10\n",
    "\n",
    "pub_10_df= pd.DataFrame(columns = ['Tr Homophily v1','Tr Homophily v2', 'Val Homophily v1',\n",
    "                                   'Val Homophily v2', 'Tst Homophily v1','Tst Homophily v2'])\n",
    "\n",
    "for client_id in range(n_clients):\n",
    "        ds = f'{client_id}-PubMed'\n",
    "        partition = torch_load(datapath, f'PubMed_disjoint/{n_clients}/partition_{client_id}.pt')\n",
    "        #Data objects\n",
    "        tr, val, tst = partition['client_tr'], partition['client_val'] , partition['client_tst']\n",
    "        tr_hom1, tr_hom2, _ = get_homophily(tr)\n",
    "        val_hom1, val_hom2, _ = get_homophily(val)\n",
    "        tst_hom1, tst_hom2, _ = get_homophily(tst)\n",
    "        pub_10_df.loc[ds, :] = [ tr_hom1, tr_hom2, val_hom1, val_hom2,tst_hom1, tst_hom2 ]\n",
    "\n",
    "wandb_pub_cli10_df= wandb.Table(dataframe=pub_10_df)\n",
    "wandb.log({\"pub_10_homophily\" : wandb_pub_cli10_df})"
   ]
  },
  {
   "cell_type": "code",
   "execution_count": 14,
   "metadata": {},
   "outputs": [],
   "source": [
    "n_clients = 20\n",
    "\n",
    "pub_20_df= pd.DataFrame(columns = ['Tr Homophily v1','Tr Homophily v2', 'Tr Homophily v3',\n",
    "                             'Val Homophily v1','Val Homophily v2', 'Val Homophily v3',\n",
    "                             'Tst Homophily v1','Tst Homophily v2', 'Tst Homophily v3'])\n",
    "\n",
    "for client_id in range(n_clients):\n",
    "        ds = f'{client_id}-PubMed'\n",
    "        partition = torch_load(datapath, f'PubMed_disjoint/{n_clients}/partition_{client_id}.pt')\n",
    "        #Data objects\n",
    "        tr, val, tst = partition['client_tr'], partition['client_val'] , partition['client_tst']\n",
    "        tr_hom1, tr_hom2, tr_hom3 = get_homophily(tr)\n",
    "        val_hom1, val_hom2, val_hom3 = get_homophily(val)\n",
    "        tst_hom1, tst_hom2, tst_hom3 = get_homophily(tst)\n",
    "        pub_20_df.loc[ds, :] = [ tr_hom1, tr_hom2, tr_hom3, val_hom1, val_hom2, val_hom3,tst_hom1, tst_hom2, tst_hom3 ]\n",
    "\n",
    "wandb_pub_cli20_df= wandb.Table(dataframe=pub_20_df)\n",
    "wandb.log({\"pub_20_homophily\" : wandb_pub_cli20_df})\n",
    "                \n"
   ]
  },
  {
   "cell_type": "code",
   "execution_count": 18,
   "metadata": {},
   "outputs": [
    {
     "data": {
      "text/html": [
       "Waiting for W&B process to finish... <strong style=\"color:green\">(success).</strong>"
      ],
      "text/plain": [
       "<IPython.core.display.HTML object>"
      ]
     },
     "metadata": {},
     "output_type": "display_data"
    },
    {
     "name": "stderr",
     "output_type": "stream",
     "text": [
      "wandb: WARNING Source type is set to 'repo' but some required information is missing from the environment. A job will not be created from this run. See https://docs.wandb.ai/guides/launch/create-job\n"
     ]
    },
    {
     "data": {
      "text/html": [
       " View run <strong style=\"color:#cdcd00\">homophily-analysis-v1</strong> at: <a href='https://wandb.ai/fedgraphlearn/fedgdrop/runs/3dgu6hzw' target=\"_blank\">https://wandb.ai/fedgraphlearn/fedgdrop/runs/3dgu6hzw</a><br/>Synced 5 W&B file(s), 8 media file(s), 8 artifact file(s) and 0 other file(s)"
      ],
      "text/plain": [
       "<IPython.core.display.HTML object>"
      ]
     },
     "metadata": {},
     "output_type": "display_data"
    },
    {
     "data": {
      "text/html": [
       "Find logs at: <code>./wandb/run-20230927_165604-3dgu6hzw/logs</code>"
      ],
      "text/plain": [
       "<IPython.core.display.HTML object>"
      ]
     },
     "metadata": {},
     "output_type": "display_data"
    }
   ],
   "source": [
    "wandb.finish()"
   ]
  },
  {
   "cell_type": "markdown",
   "metadata": {},
   "source": []
  }
 ],
 "metadata": {
  "kernelspec": {
   "display_name": "fedgdrop",
   "language": "python",
   "name": "python3"
  },
  "language_info": {
   "codemirror_mode": {
    "name": "ipython",
    "version": 3
   },
   "file_extension": ".py",
   "mimetype": "text/x-python",
   "name": "python",
   "nbconvert_exporter": "python",
   "pygments_lexer": "ipython3",
   "version": "3.10.12"
  },
  "orig_nbformat": 4
 },
 "nbformat": 4,
 "nbformat_minor": 2
}
