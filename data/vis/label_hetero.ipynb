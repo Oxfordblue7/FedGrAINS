{
 "cells": [
  {
   "cell_type": "code",
   "execution_count": null,
   "metadata": {},
   "outputs": [],
   "source": [
    "import torch\n",
    "import random\n",
    "import numpy as np\n",
    "\n",
    "import torch_geometric as pyg\n",
    "from torch_geometric.data import Data\n",
    "from torch_geometric.utils import degree\n",
    "\n",
    "from ..src.utils import torch_load  \n",
    "\n",
    "import matplotlib.pyplot as plt\n",
    "%matplotlib inline"
   ]
  },
  {
   "cell_type": "code",
   "execution_count": null,
   "metadata": {},
   "outputs": [],
   "source": [
    "datapath = \"..\""
   ]
  },
  {
   "cell_type": "markdown",
   "metadata": {},
   "source": [
    "## Cora Dataset\n",
    "\n",
    "### Degree Distribution over Clients\n",
    "#### 5 Clients"
   ]
  },
  {
   "cell_type": "code",
   "execution_count": null,
   "metadata": {},
   "outputs": [],
   "source": [
    "degree_dict_tr, label_dict_tr = {}, {}\n",
    "degree_dict_val, label_dict_val = {}, {}\n",
    "degree_dict_tst, label_dict_tst = {}, {}\n",
    "\n",
    "for client_id in range(5):\n",
    "        ds = f'{client_id}-Cora'\n",
    "        partition = torch_load(datapath, f'Cora_disjoint/5/partition_{client_id}.pt')\n",
    "        #Data objects\n",
    "        tr, val, tst = partition['client_tr'], partition['client_val'] , partition['client_tst']\n",
    "\n",
    "        degree_dict_tr[client_id] = degree(tr.edge_index[0], tr.num_nodes) \n",
    "        degree_dict_val[client_id] = degree(val.edge_index[0], val.num_nodes)\n",
    "        degree_dict_tst[client_id] = degree(tst.edge_index[0], tst.num_nodes)  \n",
    "\n",
    "\n",
    "       "
   ]
  },
  {
   "cell_type": "markdown",
   "metadata": {},
   "source": [
    "### Label Distribution Over Clients"
   ]
  },
  {
   "cell_type": "markdown",
   "metadata": {},
   "source": [
    "## CiteSeer Dataset\n"
   ]
  },
  {
   "cell_type": "code",
   "execution_count": null,
   "metadata": {},
   "outputs": [],
   "source": []
  },
  {
   "cell_type": "markdown",
   "metadata": {},
   "source": [
    "## PubMed Dataset"
   ]
  },
  {
   "cell_type": "markdown",
   "metadata": {},
   "source": []
  }
 ],
 "metadata": {
  "kernelspec": {
   "display_name": "fedgdrop",
   "language": "python",
   "name": "python3"
  },
  "language_info": {
   "name": "python",
   "version": "3.10.12"
  },
  "orig_nbformat": 4
 },
 "nbformat": 4,
 "nbformat_minor": 2
}
